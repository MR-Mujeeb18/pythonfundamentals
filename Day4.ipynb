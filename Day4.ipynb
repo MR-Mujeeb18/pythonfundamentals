{
 "cells": [
  {
   "cell_type": "code",
   "execution_count": null,
   "id": "80f4f964-5980-47ff-b7fa-ce7248c7b096",
   "metadata": {},
   "outputs": [],
   "source": [
    "introduction to list datatype : "
   ]
  },
  {
   "cell_type": "code",
   "execution_count": null,
   "id": "a26e94f0-a45d-45da-a125-990dfff10ff5",
   "metadata": {},
   "outputs": [],
   "source": [
    "Defintion : A list is a collection of items declared in a particular order.\n",
    "\n",
    "classification : it is classified as an mutable datatype\n",
    "\n",
    "how to declare the list ------> [ ] "
   ]
  },
  {
   "cell_type": "code",
   "execution_count": null,
   "id": "d219a564-2f9c-4d46-9bad-76490c69b965",
   "metadata": {},
   "outputs": [],
   "source": []
  },
  {
   "cell_type": "code",
   "execution_count": 5,
   "id": "3a8a8403-0670-456d-be8c-fa1aba74055f",
   "metadata": {},
   "outputs": [
    {
     "name": "stdout",
     "output_type": "stream",
     "text": [
      "['saima', 'keerti', 'naveen', 'kalyan', 'sajith', 'praveen']\n"
     ]
    }
   ],
   "source": [
    "students = ['saima' , 'keerti' , 'naveen' , 'kalyan' , 'sajith' , 'praveen' ]  # 0,1,2,3,4,5\n",
    "print(students)"
   ]
  },
  {
   "cell_type": "code",
   "execution_count": 7,
   "id": "20e186e1-8588-4764-86f3-0d62a226f87b",
   "metadata": {},
   "outputs": [
    {
     "data": {
      "text/plain": [
       "list"
      ]
     },
     "execution_count": 7,
     "metadata": {},
     "output_type": "execute_result"
    }
   ],
   "source": [
    "type(students)"
   ]
  },
  {
   "cell_type": "code",
   "execution_count": null,
   "id": "82ea48a1-c87e-4554-b4fa-03c47d69fbe7",
   "metadata": {},
   "outputs": [],
   "source": [
    "introduction to indexation : 0,1,2,3,.........n"
   ]
  },
  {
   "cell_type": "code",
   "execution_count": 9,
   "id": "3bf00a68-450b-4d05-89e0-52b19a747bb8",
   "metadata": {},
   "outputs": [],
   "source": [
    "# requirement : i want to access keerthi name in the output ?"
   ]
  },
  {
   "cell_type": "code",
   "execution_count": 16,
   "id": "78094fad-cd9b-4240-8b20-301856fc85a5",
   "metadata": {},
   "outputs": [
    {
     "name": "stdout",
     "output_type": "stream",
     "text": [
      "keerti\n"
     ]
    }
   ],
   "source": [
    "print(students[1])"
   ]
  },
  {
   "cell_type": "code",
   "execution_count": 18,
   "id": "39e7e3d5-eb85-423e-888d-95bade226f4c",
   "metadata": {},
   "outputs": [
    {
     "name": "stdout",
     "output_type": "stream",
     "text": [
      "Keerti\n"
     ]
    }
   ],
   "source": [
    "print(students[1].title())"
   ]
  },
  {
   "cell_type": "code",
   "execution_count": null,
   "id": "a7dc203b-c43d-448c-b7b0-dfe0590a4a4b",
   "metadata": {},
   "outputs": [],
   "source": [
    "# requirement : i want to access kalyan name in the output ?"
   ]
  },
  {
   "cell_type": "code",
   "execution_count": 20,
   "id": "b54481a9-5fb9-460c-b261-08622e8d2528",
   "metadata": {},
   "outputs": [
    {
     "name": "stdout",
     "output_type": "stream",
     "text": [
      "Kalyan\n"
     ]
    }
   ],
   "source": [
    "print(students[3].title())"
   ]
  },
  {
   "cell_type": "code",
   "execution_count": null,
   "id": "479a559c-dc09-4f90-9e13-e6cd2a077f87",
   "metadata": {},
   "outputs": [],
   "source": [
    "1. how to add new elements in the list   =======> completed \n",
    "\n",
    "2. how to modify new elements in the list  ======> completed\n",
    "\n",
    "3. how to delete new elements in the list  =======> completed"
   ]
  },
  {
   "cell_type": "code",
   "execution_count": 26,
   "id": "be62caa8-8f4c-4ee4-baf8-5ad7316dc6cd",
   "metadata": {},
   "outputs": [
    {
     "name": "stdout",
     "output_type": "stream",
     "text": [
      "['saima', 'keerti', 'naveen', 'kalyan', 'sajith', 'praveen']\n"
     ]
    }
   ],
   "source": [
    "print(students)"
   ]
  },
  {
   "cell_type": "code",
   "execution_count": null,
   "id": "761c53c6-c712-411f-86bc-40c6dc708e92",
   "metadata": {},
   "outputs": [],
   "source": []
  },
  {
   "cell_type": "code",
   "execution_count": null,
   "id": "78105737-0654-46aa-ad50-e4088cefde08",
   "metadata": {},
   "outputs": [],
   "source": [
    "# add method...."
   ]
  },
  {
   "cell_type": "code",
   "execution_count": null,
   "id": "c714a745-967e-42c0-99b8-dc273d087614",
   "metadata": {},
   "outputs": [],
   "source": [
    "# req : i want to add adil to the above list ....."
   ]
  },
  {
   "cell_type": "code",
   "execution_count": null,
   "id": "ad8626ac-7435-4cde-98cc-bf1d043c4b3a",
   "metadata": {},
   "outputs": [],
   "source": [
    "students.append('adil')"
   ]
  },
  {
   "cell_type": "code",
   "execution_count": 42,
   "id": "f501dc74-2789-425b-9cde-1e9a13182b17",
   "metadata": {},
   "outputs": [
    {
     "name": "stdout",
     "output_type": "stream",
     "text": [
      "['saima', 'keerti', 'naveen', 'kalyan', 'sajith', 'praveen', 'adil', 'adil', 'adil', 'adil', 'adil']\n"
     ]
    }
   ],
   "source": [
    "print(students)"
   ]
  },
  {
   "cell_type": "code",
   "execution_count": null,
   "id": "2784ef79-db47-450b-b083-66481a4a2b69",
   "metadata": {},
   "outputs": [],
   "source": [
    "# req : i want to add suresh in the above list...."
   ]
  },
  {
   "cell_type": "code",
   "execution_count": 44,
   "id": "1ec3c757-c7b9-4b0c-ad48-74e26cd4c90a",
   "metadata": {},
   "outputs": [],
   "source": [
    "students.append('suresh')"
   ]
  },
  {
   "cell_type": "code",
   "execution_count": 46,
   "id": "659c356e-3551-4cc3-937d-04ba91c30694",
   "metadata": {},
   "outputs": [
    {
     "name": "stdout",
     "output_type": "stream",
     "text": [
      "['saima', 'keerti', 'naveen', 'kalyan', 'sajith', 'praveen', 'adil', 'adil', 'adil', 'adil', 'adil', 'suresh']\n"
     ]
    }
   ],
   "source": [
    "print(students)"
   ]
  },
  {
   "cell_type": "code",
   "execution_count": null,
   "id": "f30a8911-8d05-42c8-9d09-67537136bab1",
   "metadata": {},
   "outputs": [],
   "source": [
    "# req : i want to add neha at 2nd index....."
   ]
  },
  {
   "cell_type": "code",
   "execution_count": 50,
   "id": "c6225d58-a025-4b6d-8e5a-a16ec4e7b7f5",
   "metadata": {},
   "outputs": [],
   "source": [
    "students.insert(2,'neha')"
   ]
  },
  {
   "cell_type": "code",
   "execution_count": 52,
   "id": "fca8b6f2-f4bf-4f4b-b973-7922da5af0ec",
   "metadata": {},
   "outputs": [
    {
     "name": "stdout",
     "output_type": "stream",
     "text": [
      "['saima', 'keerti', 'neha', 'naveen', 'kalyan', 'sajith', 'praveen', 'adil', 'adil', 'adil', 'adil', 'adil', 'suresh']\n"
     ]
    }
   ],
   "source": [
    "print(students)"
   ]
  },
  {
   "cell_type": "code",
   "execution_count": null,
   "id": "be82379a-85f0-4e7b-a363-2f892e3ed8cf",
   "metadata": {},
   "outputs": [],
   "source": [
    "# interview questions : what is the diff between append method and insert method in a list datatype ..... can u please explain ?"
   ]
  },
  {
   "cell_type": "code",
   "execution_count": 54,
   "id": "2e92a42b-7906-471f-80fd-0c5bcb48d23d",
   "metadata": {},
   "outputs": [
    {
     "name": "stdout",
     "output_type": "stream",
     "text": [
      "['saima', 'keerti', 'neha', 'naveen', 'kalyan', 'sajith', 'praveen', 'adil', 'adil', 'adil', 'adil', 'adil', 'suresh']\n"
     ]
    }
   ],
   "source": [
    "print(students)"
   ]
  },
  {
   "cell_type": "code",
   "execution_count": null,
   "id": "485c09ed-c2f1-4e09-9630-dd603de76cc7",
   "metadata": {},
   "outputs": [],
   "source": []
  },
  {
   "cell_type": "code",
   "execution_count": null,
   "id": "aa1dd501-6028-43f5-aeff-f248ea64931a",
   "metadata": {},
   "outputs": [],
   "source": [
    "# modify method..."
   ]
  },
  {
   "cell_type": "code",
   "execution_count": null,
   "id": "f858a8fa-ec27-4a9d-a293-8fcbf72f21ba",
   "metadata": {},
   "outputs": [],
   "source": [
    "# req : i want to modify keerti name to kiran ....."
   ]
  },
  {
   "cell_type": "code",
   "execution_count": 56,
   "id": "b94656d4-242c-4540-a4fc-3cec8c70f576",
   "metadata": {},
   "outputs": [],
   "source": [
    "students[1] = 'kiran'"
   ]
  },
  {
   "cell_type": "code",
   "execution_count": 58,
   "id": "92bdc0c3-3e22-46b3-b344-4a2a91e8a522",
   "metadata": {},
   "outputs": [
    {
     "name": "stdout",
     "output_type": "stream",
     "text": [
      "['saima', 'kiran', 'neha', 'naveen', 'kalyan', 'sajith', 'praveen', 'adil', 'adil', 'adil', 'adil', 'adil', 'suresh']\n"
     ]
    }
   ],
   "source": [
    "print(students)"
   ]
  },
  {
   "cell_type": "code",
   "execution_count": null,
   "id": "e96ebf2f-f416-44f0-906c-b699a8aa5cb4",
   "metadata": {},
   "outputs": [],
   "source": []
  },
  {
   "cell_type": "code",
   "execution_count": null,
   "id": "cbb5045c-7548-411c-ad29-87686656e6d1",
   "metadata": {},
   "outputs": [],
   "source": [
    "# delete method"
   ]
  },
  {
   "cell_type": "code",
   "execution_count": null,
   "id": "75948849-ef39-4327-981e-5bedc12022ce",
   "metadata": {},
   "outputs": [],
   "source": [
    "# requirement : i want to delete neha in the above list ... "
   ]
  },
  {
   "cell_type": "code",
   "execution_count": 60,
   "id": "e3ac9003-f7e5-42db-b485-824aa674dee6",
   "metadata": {},
   "outputs": [],
   "source": [
    "del students [2]"
   ]
  },
  {
   "cell_type": "code",
   "execution_count": 62,
   "id": "14020b81-698c-4959-829f-74475aac03fb",
   "metadata": {},
   "outputs": [
    {
     "name": "stdout",
     "output_type": "stream",
     "text": [
      "['saima', 'kiran', 'naveen', 'kalyan', 'sajith', 'praveen', 'adil', 'adil', 'adil', 'adil', 'adil', 'suresh']\n"
     ]
    }
   ],
   "source": [
    "print(students)"
   ]
  },
  {
   "cell_type": "code",
   "execution_count": null,
   "id": "8c2366ba-91a4-40e5-b034-566a7f30d783",
   "metadata": {},
   "outputs": [],
   "source": []
  },
  {
   "cell_type": "code",
   "execution_count": null,
   "id": "08151545-7317-4342-81b8-499958f3a94f",
   "metadata": {},
   "outputs": [],
   "source": [
    "zen of python : "
   ]
  },
  {
   "cell_type": "code",
   "execution_count": 68,
   "id": "9187e673-7203-44e9-b75d-056d368e3449",
   "metadata": {},
   "outputs": [
    {
     "name": "stdout",
     "output_type": "stream",
     "text": [
      "The Zen of Python, by Tim Peters\n",
      "\n",
      "Beautiful is better than ugly.\n",
      "Explicit is better than implicit.\n",
      "Simple is better than complex.\n",
      "Complex is better than complicated.\n",
      "Flat is better than nested.\n",
      "Sparse is better than dense.\n",
      "Readability counts.\n",
      "Special cases aren't special enough to break the rules.\n",
      "Although practicality beats purity.\n",
      "Errors should never pass silently.\n",
      "Unless explicitly silenced.\n",
      "In the face of ambiguity, refuse the temptation to guess.\n",
      "There should be one-- and preferably only one --obvious way to do it.\n",
      "Although that way may not be obvious at first unless you're Dutch.\n",
      "Now is better than never.\n",
      "Although never is often better than *right* now.\n",
      "If the implementation is hard to explain, it's a bad idea.\n",
      "If the implementation is easy to explain, it may be a good idea.\n",
      "Namespaces are one honking great idea -- let's do more of those!\n"
     ]
    }
   ],
   "source": [
    "import this"
   ]
  }
 ],
 "metadata": {
  "kernelspec": {
   "display_name": "Python 3 (ipykernel)",
   "language": "python",
   "name": "python3"
  },
  "language_info": {
   "codemirror_mode": {
    "name": "ipython",
    "version": 3
   },
   "file_extension": ".py",
   "mimetype": "text/x-python",
   "name": "python",
   "nbconvert_exporter": "python",
   "pygments_lexer": "ipython3",
   "version": "3.12.4"
  }
 },
 "nbformat": 4,
 "nbformat_minor": 5
}
