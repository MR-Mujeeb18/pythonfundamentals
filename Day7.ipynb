{
 "cells": [
  {
   "cell_type": "code",
   "execution_count": null,
   "id": "5f549b82-c7ef-4e34-972b-c3bf6c2c1938",
   "metadata": {},
   "outputs": [],
   "source": [
    "introduction to tuple datatype : "
   ]
  },
  {
   "cell_type": "code",
   "execution_count": null,
   "id": "4af2dc2e-9303-4d99-a780-35fb6ecd33c6",
   "metadata": {},
   "outputs": [],
   "source": []
  },
  {
   "cell_type": "code",
   "execution_count": null,
   "id": "2467357b-7fb2-4386-b967-e51c3c609a2b",
   "metadata": {},
   "outputs": [],
   "source": [
    "Definition : An immutable list is called as tuple.\n",
    "\n",
    "classification : it is classified as a immutable datatype\n",
    "\n",
    "how to define the tuple datatype ------> ( )"
   ]
  },
  {
   "cell_type": "code",
   "execution_count": null,
   "id": "8bb201cb-f40c-4a5e-a8ff-d5fc31c7c3e7",
   "metadata": {},
   "outputs": [],
   "source": []
  },
  {
   "cell_type": "code",
   "execution_count": 3,
   "id": "89d964b0-f3ef-4311-8577-f958e45b2431",
   "metadata": {},
   "outputs": [],
   "source": [
    "dimentions = (100 , 150)"
   ]
  },
  {
   "cell_type": "code",
   "execution_count": 5,
   "id": "4fcbb0f9-8dcc-48db-8165-bbbb03943f79",
   "metadata": {},
   "outputs": [
    {
     "name": "stdout",
     "output_type": "stream",
     "text": [
      "(100, 150)\n"
     ]
    }
   ],
   "source": [
    "print (dimentions)"
   ]
  },
  {
   "cell_type": "code",
   "execution_count": 7,
   "id": "4a0cd67a-0f1b-4af3-8764-813cf05b247f",
   "metadata": {},
   "outputs": [
    {
     "data": {
      "text/plain": [
       "tuple"
      ]
     },
     "execution_count": 7,
     "metadata": {},
     "output_type": "execute_result"
    }
   ],
   "source": [
    "type(dimentions)"
   ]
  },
  {
   "cell_type": "code",
   "execution_count": null,
   "id": "e4ef3c56-67cb-4739-adbe-d3c3fe44f2d7",
   "metadata": {},
   "outputs": [],
   "source": []
  },
  {
   "cell_type": "code",
   "execution_count": null,
   "id": "80f8e7bd-efbb-45c0-8ac3-e4dc6d541603",
   "metadata": {},
   "outputs": [],
   "source": [
    "# req : i want to change 100 to 200 ...."
   ]
  },
  {
   "cell_type": "code",
   "execution_count": null,
   "id": "1ebc0aee-2bdd-4905-9976-564a5d3baac4",
   "metadata": {},
   "outputs": [],
   "source": []
  },
  {
   "cell_type": "code",
   "execution_count": 9,
   "id": "66c48710-c562-49ca-90d3-d8b8b8fda945",
   "metadata": {},
   "outputs": [
    {
     "ename": "TypeError",
     "evalue": "'tuple' object does not support item assignment",
     "output_type": "error",
     "traceback": [
      "\u001b[1;31m---------------------------------------------------------------------------\u001b[0m",
      "\u001b[1;31mTypeError\u001b[0m                                 Traceback (most recent call last)",
      "Cell \u001b[1;32mIn[9], line 1\u001b[0m\n\u001b[1;32m----> 1\u001b[0m dimentions[\u001b[38;5;241m0\u001b[39m] \u001b[38;5;241m=\u001b[39m \u001b[38;5;241m200\u001b[39m\n",
      "\u001b[1;31mTypeError\u001b[0m: 'tuple' object does not support item assignment"
     ]
    }
   ],
   "source": [
    "dimentions[0] = 200 "
   ]
  },
  {
   "cell_type": "code",
   "execution_count": null,
   "id": "5da83cd5-b411-4bfb-8472-8c310df65351",
   "metadata": {},
   "outputs": [],
   "source": []
  },
  {
   "cell_type": "code",
   "execution_count": 15,
   "id": "59e4c490-2d0a-4316-874b-7e5635d16068",
   "metadata": {},
   "outputs": [],
   "source": [
    "students = ( 'naveen' , 'vaideki' , 'parveen' , 'sushma' )"
   ]
  },
  {
   "cell_type": "code",
   "execution_count": 17,
   "id": "36b75630-99c0-4543-8deb-e0a6bb710b4b",
   "metadata": {},
   "outputs": [
    {
     "name": "stdout",
     "output_type": "stream",
     "text": [
      "('naveen', 'vaideki', 'parveen', 'sushma')\n"
     ]
    }
   ],
   "source": [
    "print(students)"
   ]
  },
  {
   "cell_type": "code",
   "execution_count": 19,
   "id": "ad631560-2741-4ce4-b7dd-1d98079eca31",
   "metadata": {},
   "outputs": [
    {
     "data": {
      "text/plain": [
       "tuple"
      ]
     },
     "execution_count": 19,
     "metadata": {},
     "output_type": "execute_result"
    }
   ],
   "source": [
    "type(students)"
   ]
  },
  {
   "cell_type": "code",
   "execution_count": 21,
   "id": "019ffa16-191a-433d-a9ab-a6e7674906c4",
   "metadata": {},
   "outputs": [
    {
     "name": "stdout",
     "output_type": "stream",
     "text": [
      "naveen\n",
      "vaideki\n",
      "parveen\n",
      "sushma\n"
     ]
    }
   ],
   "source": [
    "for x in students :\n",
    "\n",
    "    print(x)"
   ]
  },
  {
   "cell_type": "code",
   "execution_count": null,
   "id": "0aff163a-caba-4c7b-8d19-448d0bd0024d",
   "metadata": {},
   "outputs": [],
   "source": []
  },
  {
   "cell_type": "code",
   "execution_count": null,
   "id": "6b3c2477-5370-4bae-a46e-fb2f695eaaa1",
   "metadata": {},
   "outputs": [],
   "source": [
    "introduction to dictionaries : "
   ]
  },
  {
   "cell_type": "code",
   "execution_count": null,
   "id": "de4b797b-6da0-42cb-9576-381f54af1c71",
   "metadata": {},
   "outputs": [],
   "source": [
    "defination : A dictionary is a compination of key value pairs.\n",
    "    \n",
    "classification : it is classified as a mutable datatype.\n",
    "\n",
    "how to define dictionary : { }     "
   ]
  },
  {
   "cell_type": "code",
   "execution_count": null,
   "id": "42e2b375-77c5-4099-a3a8-1f4e70532919",
   "metadata": {},
   "outputs": [],
   "source": []
  },
  {
   "cell_type": "code",
   "execution_count": null,
   "id": "d38f9aef-ea4f-4287-8bea-2722db56a27d",
   "metadata": {},
   "outputs": [],
   "source": [
    "# req : i want to create a alien game.."
   ]
  },
  {
   "cell_type": "code",
   "execution_count": null,
   "id": "dc45070e-066c-4233-9f02-58406b86a22b",
   "metadata": {},
   "outputs": [],
   "source": []
  },
  {
   "cell_type": "code",
   "execution_count": 23,
   "id": "97d38b48-c9c8-4b35-9ab3-0a2fa8d85e11",
   "metadata": {},
   "outputs": [],
   "source": [
    "alien = {'color' : 'green' , 'points': 10 }"
   ]
  },
  {
   "cell_type": "code",
   "execution_count": 25,
   "id": "ff9c1e08-c07e-47d1-8f60-7bb1ce31abf1",
   "metadata": {},
   "outputs": [
    {
     "name": "stdout",
     "output_type": "stream",
     "text": [
      "{'color': 'green', 'points': 10}\n"
     ]
    }
   ],
   "source": [
    "print (alien)"
   ]
  },
  {
   "cell_type": "code",
   "execution_count": 27,
   "id": "36200f1f-045b-4cf8-87ef-42dd50122269",
   "metadata": {},
   "outputs": [
    {
     "data": {
      "text/plain": [
       "dict"
      ]
     },
     "execution_count": 27,
     "metadata": {},
     "output_type": "execute_result"
    }
   ],
   "source": [
    "type(alien)"
   ]
  },
  {
   "cell_type": "code",
   "execution_count": null,
   "id": "dbe60156-02b7-4f4d-abd2-7a12ea1a9d96",
   "metadata": {},
   "outputs": [],
   "source": [
    "# req : how to add new key value pairs to the dictionary ..."
   ]
  },
  {
   "cell_type": "code",
   "execution_count": null,
   "id": "5d5020c6-d1c3-4bdd-a279-bd68968102a6",
   "metadata": {},
   "outputs": [],
   "source": [
    "# start_position : level 0 "
   ]
  },
  {
   "cell_type": "code",
   "execution_count": 35,
   "id": "a3a19925-1c9b-4ec3-ad61-869af80e2ce6",
   "metadata": {},
   "outputs": [],
   "source": [
    "alien['start_position'] = 'level 0'"
   ]
  },
  {
   "cell_type": "code",
   "execution_count": 37,
   "id": "103077ce-ef60-4780-b3d9-5a943cb7401a",
   "metadata": {},
   "outputs": [
    {
     "name": "stdout",
     "output_type": "stream",
     "text": [
      "{'color': 'green', 'points': 10, 'start_position': 'level 0'}\n"
     ]
    }
   ],
   "source": [
    "print(alien)"
   ]
  },
  {
   "cell_type": "code",
   "execution_count": null,
   "id": "81906d07-bfb8-4328-822a-5f5dde9b5bfd",
   "metadata": {},
   "outputs": [],
   "source": [
    "note : keys will be acting as a index point in the dictionary."
   ]
  },
  {
   "cell_type": "code",
   "execution_count": null,
   "id": "ab8e00db-74aa-412c-91c0-7c00e2858250",
   "metadata": {},
   "outputs": [],
   "source": []
  },
  {
   "cell_type": "code",
   "execution_count": null,
   "id": "34030923-14be-415b-9b7f-ca99544fecf4",
   "metadata": {},
   "outputs": [],
   "source": [
    "# req : i want to add current_position : level-1"
   ]
  },
  {
   "cell_type": "code",
   "execution_count": 41,
   "id": "241afff2-0c44-4b9c-ad6b-782c81335287",
   "metadata": {},
   "outputs": [],
   "source": [
    "alien['current_postion'] = 'level - 1'"
   ]
  },
  {
   "cell_type": "code",
   "execution_count": 47,
   "id": "9884c827-c8d8-4198-8ced-da803cd2ab29",
   "metadata": {},
   "outputs": [
    {
     "name": "stdout",
     "output_type": "stream",
     "text": [
      "{'color': 'green', 'points': 10, 'start_position': 'level 0', 'current_postion': 'level - 1'}\n"
     ]
    }
   ],
   "source": [
    "print(alien)"
   ]
  },
  {
   "cell_type": "code",
   "execution_count": null,
   "id": "efa12326-efa1-48f5-ba4a-c20f1e7ba3ec",
   "metadata": {},
   "outputs": [],
   "source": []
  },
  {
   "cell_type": "code",
   "execution_count": null,
   "id": "cc665946-5a9b-423c-9cdb-bb5bf0a15406",
   "metadata": {},
   "outputs": [],
   "source": [
    "# req : how to access the values from the dictionary....."
   ]
  },
  {
   "cell_type": "code",
   "execution_count": null,
   "id": "63ca4679-36fc-4d78-a5a2-5f27a98596f1",
   "metadata": {},
   "outputs": [],
   "source": []
  },
  {
   "cell_type": "code",
   "execution_count": 53,
   "id": "22b6cc35-c0f2-459d-b8ff-28e7198e09e8",
   "metadata": {},
   "outputs": [
    {
     "data": {
      "text/plain": [
       "10"
      ]
     },
     "execution_count": 53,
     "metadata": {},
     "output_type": "execute_result"
    }
   ],
   "source": [
    "alien['points']"
   ]
  },
  {
   "cell_type": "code",
   "execution_count": 66,
   "id": "7ac6b0eb-7b83-4aa7-9b52-2e5e2d761e8f",
   "metadata": {},
   "outputs": [
    {
     "data": {
      "text/plain": [
       "'level - 1'"
      ]
     },
     "execution_count": 66,
     "metadata": {},
     "output_type": "execute_result"
    }
   ],
   "source": [
    "alien['current_postion']"
   ]
  },
  {
   "cell_type": "code",
   "execution_count": null,
   "id": "74e179de-a438-4220-b557-9b75beb12f0a",
   "metadata": {},
   "outputs": [],
   "source": [
    "note : give the key and get the value .."
   ]
  },
  {
   "cell_type": "code",
   "execution_count": null,
   "id": "0cd006e8-984c-46f6-9d2e-cbbc15ae828c",
   "metadata": {},
   "outputs": [],
   "source": [
    "# req : can we get the key by giving value ....?"
   ]
  },
  {
   "cell_type": "code",
   "execution_count": null,
   "id": "2393e5d2-f900-4472-aa5a-4345eb3a25f0",
   "metadata": {},
   "outputs": [],
   "source": []
  },
  {
   "cell_type": "code",
   "execution_count": 68,
   "id": "90332e04-33f0-4e48-8d85-13e4ddb32c52",
   "metadata": {},
   "outputs": [
    {
     "ename": "KeyError",
     "evalue": "'green'",
     "output_type": "error",
     "traceback": [
      "\u001b[1;31m---------------------------------------------------------------------------\u001b[0m",
      "\u001b[1;31mKeyError\u001b[0m                                  Traceback (most recent call last)",
      "Cell \u001b[1;32mIn[68], line 1\u001b[0m\n\u001b[1;32m----> 1\u001b[0m alien[\u001b[38;5;124m'\u001b[39m\u001b[38;5;124mgreen\u001b[39m\u001b[38;5;124m'\u001b[39m]\n",
      "\u001b[1;31mKeyError\u001b[0m: 'green'"
     ]
    }
   ],
   "source": [
    "alien['green']"
   ]
  },
  {
   "cell_type": "code",
   "execution_count": null,
   "id": "ce986977-3b23-4c26-9483-ecff06165321",
   "metadata": {},
   "outputs": [],
   "source": []
  },
  {
   "cell_type": "code",
   "execution_count": null,
   "id": "be96ef1c-e836-45a3-9d5d-7c6e414d2247",
   "metadata": {},
   "outputs": [],
   "source": [
    "Implementation of for loops on the dictionary..."
   ]
  },
  {
   "cell_type": "code",
   "execution_count": null,
   "id": "59a59bb1-69a8-45f5-be0d-8a6aaeac509c",
   "metadata": {},
   "outputs": [],
   "source": []
  },
  {
   "cell_type": "code",
   "execution_count": null,
   "id": "3f254753-798b-4e85-8ee3-9a64e70c360d",
   "metadata": {},
   "outputs": [],
   "source": [
    "# general syntax : "
   ]
  },
  {
   "cell_type": "code",
   "execution_count": null,
   "id": "607fd7d2-f976-4c10-a44d-0471a204cc1a",
   "metadata": {},
   "outputs": [],
   "source": [
    "for tempvar1, tempvar in mainvar.items():\n",
    "\n",
    "    print(tempvar1)\n",
    "    print(tempvar2)"
   ]
  },
  {
   "cell_type": "code",
   "execution_count": 74,
   "id": "3be3d896-7cea-4441-afa2-bbe056562731",
   "metadata": {},
   "outputs": [
    {
     "name": "stdout",
     "output_type": "stream",
     "text": [
      "{'color': 'green', 'points': 10, 'start_position': 'level 0', 'current_postion': 'level - 1'}\n"
     ]
    }
   ],
   "source": [
    "print(alien)"
   ]
  },
  {
   "cell_type": "code",
   "execution_count": null,
   "id": "0daa24c5-3994-406a-9e0f-d6113e40adaa",
   "metadata": {},
   "outputs": [],
   "source": [
    "for k , v in alien"
   ]
  }
 ],
 "metadata": {
  "kernelspec": {
   "display_name": "Python 3 (ipykernel)",
   "language": "python",
   "name": "python3"
  },
  "language_info": {
   "codemirror_mode": {
    "name": "ipython",
    "version": 3
   },
   "file_extension": ".py",
   "mimetype": "text/x-python",
   "name": "python",
   "nbconvert_exporter": "python",
   "pygments_lexer": "ipython3",
   "version": "3.12.4"
  }
 },
 "nbformat": 4,
 "nbformat_minor": 5
}
