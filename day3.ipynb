{
 "cells": [
  {
   "cell_type": "code",
   "execution_count": null,
   "id": "a8354cba-4b02-4c6d-859f-59b1a76f2713",
   "metadata": {},
   "outputs": [],
   "source": [
    "continuation with the string datatype :"
   ]
  },
  {
   "cell_type": "code",
   "execution_count": null,
   "id": "e4c4c9b5-b8f0-46bc-b908-65e68026aa05",
   "metadata": {},
   "outputs": [],
   "source": []
  },
  {
   "cell_type": "code",
   "execution_count": 63,
   "id": "fa9c13ed-4188-4bee-ab4b-ad8bd99a13ab",
   "metadata": {},
   "outputs": [],
   "source": [
    "firstname = 'ravi'\n",
    "lastname = 'kumar'"
   ]
  },
  {
   "cell_type": "code",
   "execution_count": null,
   "id": "c1d25f37-5eec-4ab9-861a-3d39b8edd48f",
   "metadata": {},
   "outputs": [],
   "source": [
    "# req : i want to get the  fullname ..... ?"
   ]
  },
  {
   "cell_type": "code",
   "execution_count": null,
   "id": "97fb761b-f156-42b0-8ea5-2463f3ee0a00",
   "metadata": {},
   "outputs": [],
   "source": []
  },
  {
   "cell_type": "code",
   "execution_count": null,
   "id": "7a6f6c05-76b3-405a-8219-614aeb83558b",
   "metadata": {},
   "outputs": [],
   "source": [
    "introduction to f type : "
   ]
  },
  {
   "cell_type": "code",
   "execution_count": null,
   "id": "14276819-41ff-4d30-95eb-856b002a33e5",
   "metadata": {},
   "outputs": [],
   "source": [
    "# general syntax of f strings"
   ]
  },
  {
   "cell_type": "code",
   "execution_count": null,
   "id": "0d2b77bd-319a-4a7e-be0b-1261ccaca541",
   "metadata": {},
   "outputs": [],
   "source": [
    "f\" custom message {placeholder1} {placeholder2} ...... {placeholdern}\""
   ]
  },
  {
   "cell_type": "code",
   "execution_count": 65,
   "id": "35e84614-9758-4ac8-8399-c11a15423afb",
   "metadata": {},
   "outputs": [
    {
     "name": "stdout",
     "output_type": "stream",
     "text": [
      "ravi kumar\n"
     ]
    }
   ],
   "source": [
    "fullname = f\"{firstname} {lastname}\"\n",
    "\n",
    "print(fullname)"
   ]
  },
  {
   "cell_type": "code",
   "execution_count": 67,
   "id": "be346b56-b895-44d0-ad52-245bc51fc719",
   "metadata": {},
   "outputs": [
    {
     "name": "stdout",
     "output_type": "stream",
     "text": [
      "Ravi Kumar\n"
     ]
    }
   ],
   "source": [
    "print(fullname.title())"
   ]
  },
  {
   "cell_type": "code",
   "execution_count": null,
   "id": "3ef089be-e703-4510-9902-34ea434a86d8",
   "metadata": {},
   "outputs": [],
   "source": []
  },
  {
   "cell_type": "code",
   "execution_count": null,
   "id": "216bcc8b-5755-4c66-a2d9-4ba6a63e3646",
   "metadata": {},
   "outputs": [],
   "source": [
    "message = f\"keep uo the good work {fullname}\"\n",
    "\n",
    "print(message)"
   ]
  },
  {
   "cell_type": "code",
   "execution_count": null,
   "id": "9cbf4962-4f2b-4a63-9783-cf416bd4f1e7",
   "metadata": {},
   "outputs": [],
   "source": [
    "message = f\"keep uo the good work {fullname.title()}\"\n",
    "\n",
    "print(message)"
   ]
  },
  {
   "cell_type": "code",
   "execution_count": null,
   "id": "ef43b01d-6622-4b34-aebb-a1ad6ab27e8c",
   "metadata": {},
   "outputs": [],
   "source": []
  },
  {
   "cell_type": "code",
   "execution_count": null,
   "id": "84314007-5c78-4ce0-90b4-8a27df1a7704",
   "metadata": {},
   "outputs": [],
   "source": [
    "adding whitespaces to strings : "
   ]
  },
  {
   "cell_type": "code",
   "execution_count": null,
   "id": "0de816e5-3abc-4d9a-bcad-bc41047c056a",
   "metadata": {},
   "outputs": [],
   "source": []
  },
  {
   "cell_type": "code",
   "execution_count": 31,
   "id": "7f2e9549-b964-4c3e-8211-0b40478d7d44",
   "metadata": {},
   "outputs": [
    {
     "name": "stdout",
     "output_type": "stream",
     "text": [
      "favourite_prog_language : pythonjavac++swiftreactpascal\n"
     ]
    }
   ],
   "source": [
    "print(\"favourite_prog_language : pythonjavac++swiftreactpascal\")"
   ]
  },
  {
   "cell_type": "code",
   "execution_count": null,
   "id": "e2734cac-de11-4372-9514-f49f0d7e2fc8",
   "metadata": {},
   "outputs": [],
   "source": []
  },
  {
   "cell_type": "code",
   "execution_count": 33,
   "id": "d97e3cf5-3a5d-4eed-88ea-34aa25bde978",
   "metadata": {},
   "outputs": [
    {
     "name": "stdout",
     "output_type": "stream",
     "text": [
      "favourite_prog_language :\n",
      "python\n",
      "java\n",
      "c++\n",
      "swift\n",
      "react\n",
      "pascal\n"
     ]
    }
   ],
   "source": [
    "print(\"favourite_prog_language :\\npython\\njava\\nc++\\nswift\\nreact\\npascal\")  # \\n ====> new line "
   ]
  },
  {
   "cell_type": "code",
   "execution_count": null,
   "id": "efea6015-7d01-432c-b6de-5e86924ff8e2",
   "metadata": {},
   "outputs": [],
   "source": []
  },
  {
   "cell_type": "code",
   "execution_count": 35,
   "id": "b64b6cb8-5d2a-427f-9adc-21591d76e5ee",
   "metadata": {},
   "outputs": [
    {
     "name": "stdout",
     "output_type": "stream",
     "text": [
      "favourite_prog_language :\n",
      "\tpython\n",
      "\tjava\n",
      "\tc++\n",
      "\tswift\n",
      "\treact\n",
      "\tpascal\n"
     ]
    }
   ],
   "source": [
    "print(\"favourite_prog_language :\\n\\tpython\\n\\tjava\\n\\tc++\\n\\tswift\\n\\treact\\n\\tpascal\") # \\t ====> tab delimiter"
   ]
  },
  {
   "cell_type": "code",
   "execution_count": null,
   "id": "920407f8-4b41-4223-8b68-a1030ef4bb63",
   "metadata": {},
   "outputs": [],
   "source": []
  },
  {
   "cell_type": "code",
   "execution_count": null,
   "id": "85f5acf2-b62c-4218-bb30-5cb86f19341b",
   "metadata": {},
   "outputs": [],
   "source": [
    "removing white spaces from the strings : "
   ]
  },
  {
   "cell_type": "code",
   "execution_count": null,
   "id": "c4e2aefd-799e-4e74-aa46-3ffe87c50bbb",
   "metadata": {},
   "outputs": [],
   "source": []
  },
  {
   "cell_type": "code",
   "execution_count": 39,
   "id": "421f145d-9a06-44e6-a7bb-39de02b7a550",
   "metadata": {},
   "outputs": [
    {
     "name": "stdout",
     "output_type": "stream",
     "text": [
      "python\n"
     ]
    }
   ],
   "source": [
    "name = 'python' # no gap\n",
    "\n",
    "print(name)"
   ]
  },
  {
   "cell_type": "code",
   "execution_count": 47,
   "id": "cc64acce-3140-45b5-835c-f351640219e2",
   "metadata": {},
   "outputs": [
    {
     "name": "stdout",
     "output_type": "stream",
     "text": [
      "  python\n"
     ]
    }
   ],
   "source": [
    "name2= \"  python\" # gap on the left \n",
    "\n",
    "print(name2)"
   ]
  },
  {
   "cell_type": "code",
   "execution_count": 49,
   "id": "a0e54b13-956e-49f0-8dd4-f7f447e6d80b",
   "metadata": {},
   "outputs": [
    {
     "name": "stdout",
     "output_type": "stream",
     "text": [
      "python   \n"
     ]
    }
   ],
   "source": [
    "name3 = 'python   '  # gap on the right...\n",
    "\n",
    "print(name3)"
   ]
  },
  {
   "cell_type": "code",
   "execution_count": null,
   "id": "f84aac07-5550-47b4-abe5-8557a708d974",
   "metadata": {},
   "outputs": [],
   "source": [
    "strip method "
   ]
  },
  {
   "cell_type": "code",
   "execution_count": 51,
   "id": "0beec994-e334-4740-8051-d64d33012bd5",
   "metadata": {},
   "outputs": [
    {
     "data": {
      "text/plain": [
       "'python'"
      ]
     },
     "execution_count": 51,
     "metadata": {},
     "output_type": "execute_result"
    }
   ],
   "source": [
    "name2.strip()"
   ]
  },
  {
   "cell_type": "code",
   "execution_count": 55,
   "id": "86ad7274-4d96-4db2-8712-1d3a4aae9d92",
   "metadata": {},
   "outputs": [
    {
     "data": {
      "text/plain": [
       "'python'"
      ]
     },
     "execution_count": 55,
     "metadata": {},
     "output_type": "execute_result"
    }
   ],
   "source": [
    "name3.strip()"
   ]
  },
  {
   "cell_type": "code",
   "execution_count": null,
   "id": "4fca5f12-9526-42e4-b48f-276804f4672d",
   "metadata": {},
   "outputs": [],
   "source": []
  },
  {
   "cell_type": "code",
   "execution_count": null,
   "id": "a0d95e68-3fb0-4579-b7b8-95558c332c24",
   "metadata": {},
   "outputs": [],
   "source": []
  }
 ],
 "metadata": {
  "kernelspec": {
   "display_name": "Python 3 (ipykernel)",
   "language": "python",
   "name": "python3"
  },
  "language_info": {
   "codemirror_mode": {
    "name": "ipython",
    "version": 3
   },
   "file_extension": ".py",
   "mimetype": "text/x-python",
   "name": "python",
   "nbconvert_exporter": "python",
   "pygments_lexer": "ipython3",
   "version": "3.12.4"
  }
 },
 "nbformat": 4,
 "nbformat_minor": 5
}
