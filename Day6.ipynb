{
 "cells": [
  {
   "cell_type": "code",
   "execution_count": null,
   "id": "e4b301c0-fb08-4d03-885f-7186f23ecdb8",
   "metadata": {},
   "outputs": [],
   "source": [
    "continuation with list datatype : "
   ]
  },
  {
   "cell_type": "code",
   "execution_count": null,
   "id": "71a44a6b-c5f7-4d52-8dda-8d32758c79c5",
   "metadata": {},
   "outputs": [],
   "source": [
    "introduction to looping statement : "
   ]
  },
  {
   "cell_type": "code",
   "execution_count": null,
   "id": "9b4642ad-e0a7-494c-8983-63c344c71100",
   "metadata": {},
   "outputs": [],
   "source": [
    "understanding the concept of for loop :"
   ]
  },
  {
   "cell_type": "code",
   "execution_count": null,
   "id": "b11edd0a-86cd-4935-87d1-e518db0aa7c7",
   "metadata": {},
   "outputs": [],
   "source": []
  },
  {
   "cell_type": "code",
   "execution_count": 1,
   "id": "64555861-9732-4193-9561-153d0b4bd156",
   "metadata": {},
   "outputs": [],
   "source": [
    "students = ['naveen' , 'amer' , 'uday' , 'sameer' , 'anusha' , 'bushra' ]"
   ]
  },
  {
   "cell_type": "code",
   "execution_count": 3,
   "id": "b209922e-77ea-4dcb-8143-08aad2b83835",
   "metadata": {},
   "outputs": [
    {
     "name": "stdout",
     "output_type": "stream",
     "text": [
      "['naveen', 'amer', 'uday', 'sameer', 'anusha', 'bushra']\n"
     ]
    }
   ],
   "source": [
    "print(students)"
   ]
  },
  {
   "cell_type": "code",
   "execution_count": 5,
   "id": "84b94f5c-2c8a-42bb-ab48-4bf56766456c",
   "metadata": {},
   "outputs": [
    {
     "data": {
      "text/plain": [
       "list"
      ]
     },
     "execution_count": 5,
     "metadata": {},
     "output_type": "execute_result"
    }
   ],
   "source": [
    "type(students)"
   ]
  },
  {
   "cell_type": "code",
   "execution_count": null,
   "id": "f8705c0b-c558-492f-aed2-4a7d43c7b9cc",
   "metadata": {},
   "outputs": [],
   "source": [
    "# req : to appreciate the list of students mentioned above."
   ]
  },
  {
   "cell_type": "code",
   "execution_count": null,
   "id": "6fecdbc0-f866-415c-a528-b1be466f196b",
   "metadata": {},
   "outputs": [],
   "source": []
  },
  {
   "cell_type": "code",
   "execution_count": 9,
   "id": "3c67197f-e4cf-4a2c-9a23-c9f85b951691",
   "metadata": {},
   "outputs": [
    {
     "name": "stdout",
     "output_type": "stream",
     "text": [
      "keep up the good work , Naveen\n"
     ]
    }
   ],
   "source": [
    "print(f\"keep up the good work , {students[0].title()}\")"
   ]
  },
  {
   "cell_type": "code",
   "execution_count": null,
   "id": "e39281a9-dd4c-40c1-a15b-392332cfaaac",
   "metadata": {},
   "outputs": [],
   "source": [
    "# req : amer."
   ]
  },
  {
   "cell_type": "code",
   "execution_count": 11,
   "id": "5e7b4c88-5ecb-489a-9a0a-a84179759450",
   "metadata": {},
   "outputs": [
    {
     "name": "stdout",
     "output_type": "stream",
     "text": [
      "keep up the good work , Amer\n"
     ]
    }
   ],
   "source": [
    "print(f\"keep up the good work , {students[1].title()}\")"
   ]
  },
  {
   "cell_type": "code",
   "execution_count": 13,
   "id": "f52173e2-8d81-446b-9d45-d20b6ce96118",
   "metadata": {},
   "outputs": [
    {
     "name": "stdout",
     "output_type": "stream",
     "text": [
      "keep up the good work , ['naveen', 'amer', 'uday', 'sameer', 'anusha', 'bushra'] \n"
     ]
    }
   ],
   "source": [
    "print(f\"keep up the good work , {students} \")"
   ]
  },
  {
   "cell_type": "code",
   "execution_count": null,
   "id": "a1dfcb01-e0d3-4647-8553-ac7f6a44a339",
   "metadata": {},
   "outputs": [],
   "source": []
  },
  {
   "cell_type": "code",
   "execution_count": null,
   "id": "10dc484d-3b5f-43ee-a5ba-a5f14d66bdda",
   "metadata": {},
   "outputs": [],
   "source": [
    "# GENERAL syntax of for loop : "
   ]
  },
  {
   "cell_type": "code",
   "execution_count": null,
   "id": "1d9de1d0-fa51-4c43-96e0-b05a97aa1a60",
   "metadata": {},
   "outputs": [],
   "source": [
    "for tempvar in  mainvar :\n",
    "    print(tempvar)"
   ]
  },
  {
   "cell_type": "code",
   "execution_count": 15,
   "id": "85906951-c474-4122-88b4-b386dd211e68",
   "metadata": {},
   "outputs": [
    {
     "name": "stdout",
     "output_type": "stream",
     "text": [
      "keep up the good work , Naveen\n",
      "keep up the good work , Amer\n",
      "keep up the good work , Uday\n",
      "keep up the good work , Sameer\n",
      "keep up the good work , Anusha\n",
      "keep up the good work , Bushra\n"
     ]
    }
   ],
   "source": [
    "for x in students :\n",
    "    print(f\"keep up the good work , {x.title()}\")"
   ]
  },
  {
   "cell_type": "code",
   "execution_count": null,
   "id": "8cb1bfdd-2189-4d92-bb34-4e97dc43a6ee",
   "metadata": {},
   "outputs": [],
   "source": []
  },
  {
   "cell_type": "code",
   "execution_count": 17,
   "id": "67b38118-c7ba-4169-b002-7d6625d24b70",
   "metadata": {},
   "outputs": [
    {
     "name": "stdout",
     "output_type": "stream",
     "text": [
      "naveen\n",
      "amer\n",
      "uday\n",
      "sameer\n",
      "anusha\n",
      "bushra\n"
     ]
    }
   ],
   "source": [
    "for ironman in students:\n",
    "    print(ironman)"
   ]
  },
  {
   "cell_type": "code",
   "execution_count": null,
   "id": "90ec6c6e-79a9-4ec7-8d42-e28e6dee72c1",
   "metadata": {},
   "outputs": [],
   "source": [
    "# enhacement the code"
   ]
  },
  {
   "cell_type": "code",
   "execution_count": 19,
   "id": "79d367b6-57da-4d5d-afc0-08d9988e706d",
   "metadata": {},
   "outputs": [
    {
     "name": "stdout",
     "output_type": "stream",
     "text": [
      "keep up the good work , Naveen\n",
      "do submit your work for today without fail , Naveen\n",
      "\n",
      "keep up the good work , Amer\n",
      "do submit your work for today without fail , Amer\n",
      "\n",
      "keep up the good work , Uday\n",
      "do submit your work for today without fail , Uday\n",
      "\n",
      "keep up the good work , Sameer\n",
      "do submit your work for today without fail , Sameer\n",
      "\n",
      "keep up the good work , Anusha\n",
      "do submit your work for today without fail , Anusha\n",
      "\n",
      "keep up the good work , Bushra\n",
      "do submit your work for today without fail , Bushra\n",
      "\n"
     ]
    }
   ],
   "source": [
    "for x in students :\n",
    "    print(f\"keep up the good work , {x.title()}\")\n",
    "    print(f\"do submit your work for today without fail , {x.title()}\\n\")"
   ]
  },
  {
   "cell_type": "code",
   "execution_count": null,
   "id": "623b59a1-c3e4-4c01-8854-c8be3156317e",
   "metadata": {},
   "outputs": [],
   "source": [
    "for tempvar in mainvar:  # indentation\n",
    "    print(tempvar)"
   ]
  },
  {
   "cell_type": "code",
   "execution_count": 25,
   "id": "f153e3ab-5eac-4d47-acbf-f0124bf68881",
   "metadata": {},
   "outputs": [
    {
     "name": "stdout",
     "output_type": "stream",
     "text": [
      "naveen\n",
      "amer\n",
      "uday\n",
      "sameer\n",
      "anusha\n",
      "bushra\n"
     ]
    }
   ],
   "source": [
    "for ironman in students: \n",
    "    print(ironman)"
   ]
  },
  {
   "cell_type": "code",
   "execution_count": null,
   "id": "3f6d69d9-94bb-4272-996c-ac3308d8d68d",
   "metadata": {},
   "outputs": [],
   "source": [
    "for x in students :\n",
    "    print(f\"keep up the good work , {x.title()}\")  # writing in the loop ----\n",
    "    print(f\"do submit your work for today without fail , {x.title()}\\n\")  # writing in the loop\n",
    "    print(\"thank you all for joining in the session\") # it is getting executed only time ----> writing out of the loop"
   ]
  },
  {
   "cell_type": "code",
   "execution_count": null,
   "id": "02a0c8d9-8c76-4339-951a-374d52211e0e",
   "metadata": {},
   "outputs": [],
   "source": []
  },
  {
   "cell_type": "code",
   "execution_count": null,
   "id": "651a025f-d95a-420f-afdf-7cc117ea40b5",
   "metadata": {},
   "outputs": [],
   "source": []
  },
  {
   "cell_type": "code",
   "execution_count": null,
   "id": "823bd7cd-7e46-49a4-9153-452d3eee33cd",
   "metadata": {},
   "outputs": [],
   "source": []
  },
  {
   "cell_type": "code",
   "execution_count": null,
   "id": "f40ce661-885c-460e-a351-d145e1970f82",
   "metadata": {},
   "outputs": [],
   "source": []
  },
  {
   "cell_type": "code",
   "execution_count": null,
   "id": "7abc3fee-8df9-4ec8-bc12-d4becc9a0d82",
   "metadata": {},
   "outputs": [],
   "source": []
  },
  {
   "cell_type": "code",
   "execution_count": null,
   "id": "8cbe80c3-5348-41db-9cf1-90dadf801518",
   "metadata": {},
   "outputs": [],
   "source": []
  }
 ],
 "metadata": {
  "kernelspec": {
   "display_name": "Python 3 (ipykernel)",
   "language": "python",
   "name": "python3"
  },
  "language_info": {
   "codemirror_mode": {
    "name": "ipython",
    "version": 3
   },
   "file_extension": ".py",
   "mimetype": "text/x-python",
   "name": "python",
   "nbconvert_exporter": "python",
   "pygments_lexer": "ipython3",
   "version": "3.12.4"
  }
 },
 "nbformat": 4,
 "nbformat_minor": 5
}
