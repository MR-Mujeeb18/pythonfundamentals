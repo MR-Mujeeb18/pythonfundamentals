{
 "cells": [
  {
   "cell_type": "code",
   "execution_count": null,
   "id": "dac4779b-f090-4491-8200-e4f976cfe35d",
   "metadata": {},
   "outputs": [],
   "source": [
    "continuation with list datatype :"
   ]
  },
  {
   "cell_type": "code",
   "execution_count": null,
   "id": "515ef8bc-625d-477b-a409-b6f04e0ccb82",
   "metadata": {},
   "outputs": [],
   "source": [
    "organising the list datatype :"
   ]
  },
  {
   "cell_type": "code",
   "execution_count": null,
   "id": "dc6ad246-6dbb-426a-bda2-ef72609b567a",
   "metadata": {},
   "outputs": [],
   "source": []
  },
  {
   "cell_type": "code",
   "execution_count": 1,
   "id": "25ddc5b9-152f-4617-a80e-e9bb78d7782b",
   "metadata": {},
   "outputs": [],
   "source": [
    "cars = ['benz' , 'maruthi' , 'audi' , 'suzuki' , 'bmw' , 'kia']"
   ]
  },
  {
   "cell_type": "code",
   "execution_count": 3,
   "id": "62b39a4d-d5e8-4627-ad2f-b952c9ff4b34",
   "metadata": {},
   "outputs": [
    {
     "name": "stdout",
     "output_type": "stream",
     "text": [
      "['benz', 'maruthi', 'audi', 'suzuki', 'bmw', 'kia']\n"
     ]
    }
   ],
   "source": [
    "print(cars)"
   ]
  },
  {
   "cell_type": "code",
   "execution_count": null,
   "id": "d37ce1cb-1f42-4a01-bdd8-f67854d87f96",
   "metadata": {},
   "outputs": [],
   "source": [
    "# requirement : i want to organise the list in a A-Z order"
   ]
  },
  {
   "cell_type": "code",
   "execution_count": null,
   "id": "c6a77c8f-efa5-4dd5-b5d3-43c4b6fffae0",
   "metadata": {},
   "outputs": [],
   "source": [
    "1. temp approach  ======================= sorted  method ====> we can have the original list order maintained.\n",
    "\n",
    "2. pemanent approach ---------->  sort method  ====> we will not be having the original order ---- changes are applied permanently."
   ]
  },
  {
   "cell_type": "code",
   "execution_count": null,
   "id": "cf8818ce-f6ff-4c6c-8312-63babfd608df",
   "metadata": {},
   "outputs": [],
   "source": []
  },
  {
   "cell_type": "code",
   "execution_count": 5,
   "id": "f5252dfb-d52e-4267-97a5-32233e73f6c4",
   "metadata": {},
   "outputs": [
    {
     "name": "stdout",
     "output_type": "stream",
     "text": [
      "['audi', 'benz', 'bmw', 'kia', 'maruthi', 'suzuki']\n"
     ]
    }
   ],
   "source": [
    "print(sorted(cars))  # A , B , B , K , M , S"
   ]
  },
  {
   "cell_type": "code",
   "execution_count": null,
   "id": "b80c688f-245d-4272-b817-de26b18ee767",
   "metadata": {},
   "outputs": [],
   "source": [
    "# benz and bmw =====> B , B , E , M ====> E"
   ]
  },
  {
   "cell_type": "code",
   "execution_count": 7,
   "id": "5711a08d-cdd7-49f9-9f6c-8207b94a1b3b",
   "metadata": {},
   "outputs": [
    {
     "name": "stdout",
     "output_type": "stream",
     "text": [
      "['benz', 'maruthi', 'audi', 'suzuki', 'bmw', 'kia']\n"
     ]
    }
   ],
   "source": [
    "print(cars) # we are getting original order intact ...."
   ]
  },
  {
   "cell_type": "code",
   "execution_count": null,
   "id": "9db5b510-4301-4e52-8ae6-3150880d2fa4",
   "metadata": {},
   "outputs": [],
   "source": []
  },
  {
   "cell_type": "raw",
   "id": "59cb5fce-b3e3-421c-aa57-d3521ca7c956",
   "metadata": {},
   "source": [
    "cars.sort()"
   ]
  },
  {
   "cell_type": "code",
   "execution_count": 13,
   "id": "0a885c3e-80fa-48a8-948e-1bfed07af739",
   "metadata": {},
   "outputs": [
    {
     "name": "stdout",
     "output_type": "stream",
     "text": [
      "['audi', 'benz', 'bmw', 'kia', 'maruthi', 'suzuki']\n"
     ]
    }
   ],
   "source": [
    "print(cars)"
   ]
  },
  {
   "cell_type": "code",
   "execution_count": 15,
   "id": "a7bed402-35dc-4806-9255-caced531e10b",
   "metadata": {},
   "outputs": [
    {
     "name": "stdout",
     "output_type": "stream",
     "text": [
      "['audi', 'benz', 'bmw', 'kia', 'maruthi', 'suzuki']\n"
     ]
    }
   ],
   "source": [
    "print(cars)"
   ]
  },
  {
   "cell_type": "code",
   "execution_count": null,
   "id": "882d6015-0f9b-4924-aadf-4b5edfb3051e",
   "metadata": {},
   "outputs": [],
   "source": [
    "# interview question : what is  the difference between sorted and sort method in the list datatype.......?"
   ]
  },
  {
   "cell_type": "code",
   "execution_count": null,
   "id": "77875dd5-615f-4e28-8413-bdcc84de19fb",
   "metadata": {},
   "outputs": [],
   "source": []
  },
  {
   "cell_type": "code",
   "execution_count": null,
   "id": "325b3673-f5ca-437c-a156-3b7fe5f5ae13",
   "metadata": {},
   "outputs": [],
   "source": [
    "# req : i want to print the list in the reverse order ....."
   ]
  },
  {
   "cell_type": "code",
   "execution_count": 17,
   "id": "9ffdf139-8a02-4e48-a2ec-553b5adacf7e",
   "metadata": {},
   "outputs": [],
   "source": [
    "cars.reverse()"
   ]
  },
  {
   "cell_type": "code",
   "execution_count": 19,
   "id": "047eacf9-0af9-4db9-ad8a-c4bef96bb944",
   "metadata": {},
   "outputs": [
    {
     "name": "stdout",
     "output_type": "stream",
     "text": [
      "['suzuki', 'maruthi', 'kia', 'bmw', 'benz', 'audi']\n"
     ]
    }
   ],
   "source": [
    "print(cars)"
   ]
  },
  {
   "cell_type": "code",
   "execution_count": 21,
   "id": "f4e73bca-024a-4f56-8462-7a0dc4a44bda",
   "metadata": {},
   "outputs": [
    {
     "name": "stdout",
     "output_type": "stream",
     "text": [
      "['suzuki', 'maruthi', 'kia', 'bmw', 'benz', 'audi']\n"
     ]
    }
   ],
   "source": [
    "print(cars)"
   ]
  },
  {
   "cell_type": "code",
   "execution_count": null,
   "id": "3e6ecccd-1be4-44d6-885b-b84497dea95b",
   "metadata": {},
   "outputs": [],
   "source": []
  },
  {
   "cell_type": "code",
   "execution_count": null,
   "id": "ccd515d7-d4a8-49c1-952c-4ca5cc4dc8b5",
   "metadata": {},
   "outputs": [],
   "source": [
    "# req  : i want to know the total count of elements "
   ]
  },
  {
   "cell_type": "code",
   "execution_count": null,
   "id": "68ef5044-06ac-44bf-909e-f7973badad6f",
   "metadata": {},
   "outputs": [],
   "source": []
  },
  {
   "cell_type": "code",
   "execution_count": 23,
   "id": "2bb12ccd-22fb-4a55-8382-2542551d669a",
   "metadata": {},
   "outputs": [
    {
     "data": {
      "text/plain": [
       "6"
      ]
     },
     "execution_count": 23,
     "metadata": {},
     "output_type": "execute_result"
    }
   ],
   "source": [
    "len(cars)"
   ]
  },
  {
   "cell_type": "code",
   "execution_count": null,
   "id": "02bee8c4-369c-4291-bd98-9281c9674844",
   "metadata": {},
   "outputs": [],
   "source": [
    "slicing the list :"
   ]
  },
  {
   "cell_type": "code",
   "execution_count": null,
   "id": "d6631a00-2400-457e-9f78-c2c87a533cdc",
   "metadata": {},
   "outputs": [],
   "source": []
  },
  {
   "cell_type": "code",
   "execution_count": 25,
   "id": "0c1123b9-5f64-4104-869a-a406d7843299",
   "metadata": {},
   "outputs": [],
   "source": [
    "students = ['aditi', 'naveen' , 'saima' , 'keerthi' , 'nouman' , 'joseph' ]"
   ]
  },
  {
   "cell_type": "code",
   "execution_count": 27,
   "id": "360cd93a-54fb-40d8-96f8-75792632476b",
   "metadata": {},
   "outputs": [
    {
     "name": "stdout",
     "output_type": "stream",
     "text": [
      "['aditi', 'naveen', 'saima', 'keerthi', 'nouman', 'joseph']\n"
     ]
    }
   ],
   "source": [
    "print(students)"
   ]
  },
  {
   "cell_type": "code",
   "execution_count": 31,
   "id": "a9420172-d3eb-4e68-b9db-04fc558daf76",
   "metadata": {},
   "outputs": [
    {
     "data": {
      "text/plain": [
       "list"
      ]
     },
     "execution_count": 31,
     "metadata": {},
     "output_type": "execute_result"
    }
   ],
   "source": [
    "type(students)"
   ]
  },
  {
   "cell_type": "code",
   "execution_count": null,
   "id": "cb878a14-1cd6-48ea-b987-211b00989b63",
   "metadata": {},
   "outputs": [],
   "source": [
    "# General syntax of slicing ......"
   ]
  },
  {
   "cell_type": "code",
   "execution_count": null,
   "id": "042bbfca-3112-4f52-a4a6-61a39668f320",
   "metadata": {},
   "outputs": [],
   "source": []
  },
  {
   "cell_type": "code",
   "execution_count": null,
   "id": "da92ed9d-ba41-4e9a-b5c5-804b3170ac03",
   "metadata": {},
   "outputs": [],
   "source": [
    "[start_value:stop_value:step_count]"
   ]
  },
  {
   "cell_type": "code",
   "execution_count": null,
   "id": "616ecc39-2e51-4382-a47a-d254cddbd5ca",
   "metadata": {},
   "outputs": [],
   "source": [
    "Note_point : stop_value is always exclusive , to include the stop value we have to increment the index by +1."
   ]
  },
  {
   "cell_type": "code",
   "execution_count": null,
   "id": "8ebdc1b6-7b16-405c-acd4-8e03359b064f",
   "metadata": {},
   "outputs": [],
   "source": [
    "# req : i want lets say aditi and naveen in the op."
   ]
  },
  {
   "cell_type": "code",
   "execution_count": 47,
   "id": "b5d36722-1f00-4b4f-b764-5cb2c176b538",
   "metadata": {},
   "outputs": [
    {
     "name": "stdout",
     "output_type": "stream",
     "text": [
      "['aditi']\n"
     ]
    }
   ],
   "source": [
    "print(students[0:1])"
   ]
  },
  {
   "cell_type": "code",
   "execution_count": 49,
   "id": "b8f72246-63f2-4679-9fe8-0e14d428a5aa",
   "metadata": {},
   "outputs": [
    {
     "name": "stdout",
     "output_type": "stream",
     "text": [
      "['aditi', 'naveen']\n"
     ]
    }
   ],
   "source": [
    "print(students[0:2])"
   ]
  },
  {
   "cell_type": "code",
   "execution_count": null,
   "id": "efa28db7-b6a0-4596-973f-9370e2a307b9",
   "metadata": {},
   "outputs": [],
   "source": [
    "# req:  saima and keerti...."
   ]
  },
  {
   "cell_type": "code",
   "execution_count": 39,
   "id": "9c347ec7-4297-461b-aad1-edc7c552b144",
   "metadata": {},
   "outputs": [
    {
     "name": "stdout",
     "output_type": "stream",
     "text": [
      "['saima', 'keerthi']\n"
     ]
    }
   ],
   "source": [
    "print(students[2:4])"
   ]
  },
  {
   "cell_type": "code",
   "execution_count": null,
   "id": "ef04585b-2824-46ae-b13e-659d4f8a5e2d",
   "metadata": {},
   "outputs": [],
   "source": [
    "# req : nouman and joseph in op "
   ]
  },
  {
   "cell_type": "code",
   "execution_count": 43,
   "id": "32e4e475-cfa3-4129-bf2f-6e0b5e531d84",
   "metadata": {},
   "outputs": [
    {
     "name": "stdout",
     "output_type": "stream",
     "text": [
      "['nouman', 'joseph']\n"
     ]
    }
   ],
   "source": [
    "print(students[4:6])"
   ]
  },
  {
   "cell_type": "code",
   "execution_count": null,
   "id": "8a8ec692-42f1-418a-94a8-b6e649b45ddf",
   "metadata": {},
   "outputs": [],
   "source": []
  },
  {
   "cell_type": "code",
   "execution_count": null,
   "id": "3b7f0f58-7898-4243-b618-d7fa48b142df",
   "metadata": {},
   "outputs": [],
   "source": [
    "# req : i want aditi , saima and nouman in output ....."
   ]
  },
  {
   "cell_type": "code",
   "execution_count": null,
   "id": "f69b5be6-c04b-4052-b34b-475c00bed8c2",
   "metadata": {},
   "outputs": [],
   "source": []
  },
  {
   "cell_type": "code",
   "execution_count": 45,
   "id": "8c17cef8-29a4-4b17-b727-c93e85544432",
   "metadata": {},
   "outputs": [
    {
     "name": "stdout",
     "output_type": "stream",
     "text": [
      "['aditi']\n"
     ]
    }
   ],
   "source": [
    "print(students[0:1:4])"
   ]
  }
 ],
 "metadata": {
  "kernelspec": {
   "display_name": "Python 3 (ipykernel)",
   "language": "python",
   "name": "python3"
  },
  "language_info": {
   "codemirror_mode": {
    "name": "ipython",
    "version": 3
   },
   "file_extension": ".py",
   "mimetype": "text/x-python",
   "name": "python",
   "nbconvert_exporter": "python",
   "pygments_lexer": "ipython3",
   "version": "3.12.4"
  }
 },
 "nbformat": 4,
 "nbformat_minor": 5
}
