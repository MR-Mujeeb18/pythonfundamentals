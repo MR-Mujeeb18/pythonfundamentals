{
 "cells": [
  {
   "cell_type": "code",
   "execution_count": null,
   "id": "c135f3a5-864b-4a78-bdc3-f065e0f006d7",
   "metadata": {},
   "outputs": [],
   "source": [
    "Introduction to datatypes : \n",
    "\n",
    "1. Strings ==== > str\n",
    "2. Numbers ====> intrgers  (int)  and floats (decimals)  0.1 , 0.2,1.5\n",
    "3. List =====> list\n",
    "4. Tuples =====> tuple\n",
    "5. Dictioneries =====>  dict"
   ]
  },
  {
   "cell_type": "code",
   "execution_count": null,
   "id": "06a28066-ff4c-440f-b8f9-f015819d81b4",
   "metadata": {},
   "outputs": [],
   "source": []
  },
  {
   "cell_type": "code",
   "execution_count": null,
   "id": "addfd59f-c2d4-4ccd-83d3-b99bf95dd825",
   "metadata": {},
   "outputs": [],
   "source": []
  },
  {
   "cell_type": "code",
   "execution_count": 3,
   "id": "7d8cb0d2-3b97-46a4-8fb8-13768cb6b292",
   "metadata": {},
   "outputs": [
    {
     "ename": "SyntaxError",
     "evalue": "invalid syntax (3080121914.py, line 1)",
     "output_type": "error",
     "traceback": [
      "\u001b[1;36m  Cell \u001b[1;32mIn[3], line 1\u001b[1;36m\u001b[0m\n\u001b[1;33m    classification of datatypes :\u001b[0m\n\u001b[1;37m                   ^\u001b[0m\n\u001b[1;31mSyntaxError\u001b[0m\u001b[1;31m:\u001b[0m invalid syntax\n"
     ]
    }
   ],
   "source": [
    "classification of datatypes :\n",
    "\n",
    "Broadly datatypes are classified into two categories :\n",
    "\n",
    "1. mutable datatypes ===> which we can able to edit / alter  ====> flexible in nature\n",
    "\n",
    "2. immutable datatypes ===> which we cannot able to edit / alter  ===> fixed in nature "
   ]
  },
  {
   "cell_type": "code",
   "execution_count": null,
   "id": "a18c6abc-16bf-44ef-97c2-c4fd96133372",
   "metadata": {},
   "outputs": [],
   "source": []
  },
  {
   "cell_type": "code",
   "execution_count": null,
   "id": "f787bed4-9fb9-4532-a405-c1111fe50fd8",
   "metadata": {},
   "outputs": [],
   "source": [
    "Note : python is case sensitive programming language"
   ]
  },
  {
   "cell_type": "code",
   "execution_count": null,
   "id": "41fabf4d-5ae9-4f03-9f2c-13f0e39bbe65",
   "metadata": {},
   "outputs": [],
   "source": []
  },
  {
   "cell_type": "code",
   "execution_count": 8,
   "id": "bbe5aecb-e167-41f6-8754-84531daf0849",
   "metadata": {},
   "outputs": [
    {
     "ename": "SyntaxError",
     "evalue": "invalid syntax (2984143446.py, line 1)",
     "output_type": "error",
     "traceback": [
      "\u001b[1;36m  Cell \u001b[1;32mIn[8], line 1\u001b[1;36m\u001b[0m\n\u001b[1;33m    introduction to string datatype :\u001b[0m\n\u001b[1;37m                 ^\u001b[0m\n\u001b[1;31mSyntaxError\u001b[0m\u001b[1;31m:\u001b[0m invalid syntax\n"
     ]
    }
   ],
   "source": [
    "introduction to string datatype :\n",
    "\n",
    "definition : => A string is a series of character declared in quotes\n",
    "\n",
    "classification : =>it is classified as an immutable datatype \n",
    "\n",
    "how to declare the string datatype ------->?\n",
    "\n",
    "1. single quote ====> ' '\n",
    "\n",
    "2. double quotes ====> \" \""
   ]
  },
  {
   "cell_type": "code",
   "execution_count": null,
   "id": "e7227e08-cd9d-4019-8632-9053214a7865",
   "metadata": {},
   "outputs": [],
   "source": []
  },
  {
   "cell_type": "code",
   "execution_count": 12,
   "id": "ef5b83ec-9611-4cb8-b1ee-0c305f42dd04",
   "metadata": {},
   "outputs": [
    {
     "name": "stdout",
     "output_type": "stream",
     "text": [
      "raju\n"
     ]
    }
   ],
   "source": [
    "name = 'raju' #single quote\n",
    "\n",
    "print(name)"
   ]
  },
  {
   "cell_type": "code",
   "execution_count": 43,
   "id": "e59dfdc0-69a0-4486-b370-26d7c8c4c806",
   "metadata": {},
   "outputs": [
    {
     "name": "stdout",
     "output_type": "stream",
     "text": [
      "joseph\n"
     ]
    }
   ],
   "source": [
    "name2 = \"joseph\" #double quotes\n",
    "\n",
    "print (name2)"
   ]
  },
  {
   "cell_type": "code",
   "execution_count": null,
   "id": "56189f20-9496-48c5-b7cb-43544d83c922",
   "metadata": {},
   "outputs": [],
   "source": []
  },
  {
   "cell_type": "code",
   "execution_count": 18,
   "id": "3b00e81b-6e1a-4be6-800d-740a532187d2",
   "metadata": {},
   "outputs": [],
   "source": [
    "# is used for commenting the code"
   ]
  },
  {
   "cell_type": "code",
   "execution_count": null,
   "id": "307ec111-96b7-4967-989e-ebd614484bd1",
   "metadata": {},
   "outputs": [],
   "source": []
  },
  {
   "cell_type": "code",
   "execution_count": 21,
   "id": "a61a39a5-1f1b-4c97-825b-bbe639809d82",
   "metadata": {},
   "outputs": [
    {
     "ename": "SyntaxError",
     "evalue": "invalid syntax (350646013.py, line 1)",
     "output_type": "error",
     "traceback": [
      "\u001b[1;36m  Cell \u001b[1;32mIn[21], line 1\u001b[1;36m\u001b[0m\n\u001b[1;33m    name2 = \"joseph\" double quotes\u001b[0m\n\u001b[1;37m                     ^\u001b[0m\n\u001b[1;31mSyntaxError\u001b[0m\u001b[1;31m:\u001b[0m invalid syntax\n"
     ]
    }
   ],
   "source": [
    "name2 = \"joseph\" double quotes\n",
    "\n",
    "print(name2)"
   ]
  },
  {
   "cell_type": "code",
   "execution_count": null,
   "id": "6a5a5523-a16f-40c0-8c64-241571f79946",
   "metadata": {},
   "outputs": [],
   "source": []
  },
  {
   "cell_type": "code",
   "execution_count": null,
   "id": "19f2db7c-4583-46af-9a4c-47ee613f10a0",
   "metadata": {},
   "outputs": [],
   "source": [
    "introduction to string methods :"
   ]
  },
  {
   "cell_type": "code",
   "execution_count": 37,
   "id": "49836ea4-05e3-49d6-b965-06b5d54848aa",
   "metadata": {},
   "outputs": [
    {
     "data": {
      "text/plain": [
       "str"
      ]
     },
     "execution_count": 37,
     "metadata": {},
     "output_type": "execute_result"
    }
   ],
   "source": [
    "type(name)"
   ]
  },
  {
   "cell_type": "code",
   "execution_count": 45,
   "id": "3f591550-02ab-494d-9c1f-97f0979a6be6",
   "metadata": {},
   "outputs": [
    {
     "data": {
      "text/plain": [
       "str"
      ]
     },
     "execution_count": 45,
     "metadata": {},
     "output_type": "execute_result"
    }
   ],
   "source": [
    "type(name2)"
   ]
  },
  {
   "cell_type": "code",
   "execution_count": null,
   "id": "4364e629-4b88-4ce0-9100-0fc90733a447",
   "metadata": {},
   "outputs": [],
   "source": [
    "type method is used to verify and validate what kind of datatype it is ."
   ]
  },
  {
   "cell_type": "code",
   "execution_count": 47,
   "id": "12ba6bf1-c7e7-476e-98e2-65aa7fe21d77",
   "metadata": {},
   "outputs": [
    {
     "name": "stdout",
     "output_type": "stream",
     "text": [
      "ashwin raj\n"
     ]
    }
   ],
   "source": [
    "fullname = 'ashwin raj'\n",
    "\n",
    "print(fullname)"
   ]
  },
  {
   "cell_type": "code",
   "execution_count": 49,
   "id": "1edbafca-45c6-43dc-b295-d784717061fb",
   "metadata": {},
   "outputs": [
    {
     "name": "stdout",
     "output_type": "stream",
     "text": [
      "Ashwin Raj\n"
     ]
    }
   ],
   "source": [
    "print(fullname.title())"
   ]
  },
  {
   "cell_type": "code",
   "execution_count": 51,
   "id": "6ba81d82-f99d-44c0-8286-c1a3cdea2b56",
   "metadata": {},
   "outputs": [],
   "source": [
    "# requirement : i want entire name in capitals"
   ]
  },
  {
   "cell_type": "code",
   "execution_count": 54,
   "id": "a03b3dc5-949d-482f-ae42-0cf2cc0ca21d",
   "metadata": {},
   "outputs": [
    {
     "name": "stdout",
     "output_type": "stream",
     "text": [
      "ASHWIN RAJ\n"
     ]
    }
   ],
   "source": [
    "print(fullname.upper())"
   ]
  },
  {
   "cell_type": "code",
   "execution_count": 56,
   "id": "3dedf9bb-1e82-4c7b-b83d-7c4df248c67b",
   "metadata": {},
   "outputs": [],
   "source": [
    "# requirement : i want entire name in small case letters"
   ]
  },
  {
   "cell_type": "code",
   "execution_count": 59,
   "id": "67c0dd48-d19f-4386-98bd-ebe8956ab4b9",
   "metadata": {},
   "outputs": [
    {
     "name": "stdout",
     "output_type": "stream",
     "text": [
      "ashwin raj\n"
     ]
    }
   ],
   "source": [
    "print(fullname.lower())"
   ]
  },
  {
   "cell_type": "code",
   "execution_count": null,
   "id": "a6b70846-08dd-47df-ae71-48401e21e094",
   "metadata": {},
   "outputs": [],
   "source": []
  }
 ],
 "metadata": {
  "kernelspec": {
   "display_name": "Python 3 (ipykernel)",
   "language": "python",
   "name": "python3"
  },
  "language_info": {
   "codemirror_mode": {
    "name": "ipython",
    "version": 3
   },
   "file_extension": ".py",
   "mimetype": "text/x-python",
   "name": "python",
   "nbconvert_exporter": "python",
   "pygments_lexer": "ipython3",
   "version": "3.12.4"
  }
 },
 "nbformat": 4,
 "nbformat_minor": 5
}
