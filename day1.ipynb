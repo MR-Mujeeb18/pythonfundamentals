{
 "cells": [
  {
   "cell_type": "code",
   "execution_count": 2,
   "id": "012717a4-2965-444c-b791-e231ed8907d2",
   "metadata": {},
   "outputs": [
    {
     "name": "stdout",
     "output_type": "stream",
     "text": [
      "hello world\n"
     ]
    }
   ],
   "source": [
    "print(\"hello world\")"
   ]
  },
  {
   "cell_type": "code",
   "execution_count": null,
   "id": "4ac471bb-e26c-46ef-9bd7-e6cbe23017b7",
   "metadata": {},
   "outputs": [],
   "source": [
    "Introduction to python programming :\n"
   ]
  },
  {
   "cell_type": "code",
   "execution_count": null,
   "id": "1a4e1c60-4ea8-4724-82ff-3fcbb853629f",
   "metadata": {},
   "outputs": [],
   "source": [
    "understanding the variables in python  "
   ]
  },
  {
   "cell_type": "code",
   "execution_count": 27,
   "id": "607e2848-60e7-4f93-913e-dc2c8fb9f903",
   "metadata": {},
   "outputs": [
    {
     "name": "stdout",
     "output_type": "stream",
     "text": [
      "5\n"
     ]
    }
   ],
   "source": [
    "x = 2\n",
    "y = 3\n",
    "z = x+y\n",
    "\n",
    "print(z)"
   ]
  },
  {
   "cell_type": "code",
   "execution_count": 19,
   "id": "a3bbf505-f037-45c1-bdf8-fdb0c808fb36",
   "metadata": {},
   "outputs": [
    {
     "ename": "SyntaxError",
     "evalue": "invalid syntax (2456932308.py, line 1)",
     "output_type": "error",
     "traceback": [
      "\u001b[1;36m  Cell \u001b[1;32mIn[19], line 1\u001b[1;36m\u001b[0m\n\u001b[1;33m    Rule no - 1 : No Namespaces while declaring the variable name\u001b[0m\n\u001b[1;37m         ^\u001b[0m\n\u001b[1;31mSyntaxError\u001b[0m\u001b[1;31m:\u001b[0m invalid syntax\n"
     ]
    }
   ],
   "source": [
    "Rule no - 1 : No Namespaces while declaring the variables"
   ]
  },
  {
   "cell_type": "code",
   "execution_count": 21,
   "id": "aba21179-9801-479a-b3c9-1410efd98570",
   "metadata": {},
   "outputs": [
    {
     "ename": "SyntaxError",
     "evalue": "invalid syntax (2960907427.py, line 1)",
     "output_type": "error",
     "traceback": [
      "\u001b[1;36m  Cell \u001b[1;32mIn[21], line 1\u001b[1;36m\u001b[0m\n\u001b[1;33m    first name = \"mujeeb\"\u001b[0m\n\u001b[1;37m          ^\u001b[0m\n\u001b[1;31mSyntaxError\u001b[0m\u001b[1;31m:\u001b[0m invalid syntax\n"
     ]
    }
   ],
   "source": [
    "first name = \"mujeeb\"\n",
    "print(first name)\n"
   ]
  },
  {
   "cell_type": "code",
   "execution_count": 23,
   "id": "77939a2a-74a2-48c1-b1b5-7733f23e8be1",
   "metadata": {},
   "outputs": [
    {
     "name": "stdout",
     "output_type": "stream",
     "text": [
      "mujeeb\n"
     ]
    }
   ],
   "source": [
    "firstname = \"mujeeb\"\n",
    "print(firstname)\n"
   ]
  },
  {
   "cell_type": "code",
   "execution_count": 7,
   "id": "0347388d-f3eb-47a0-8a32-35cf2ba0a214",
   "metadata": {},
   "outputs": [
    {
     "name": "stdout",
     "output_type": "stream",
     "text": [
      "mujeeb\n"
     ]
    }
   ],
   "source": [
    "first_name = \"mujeeb\"\n",
    "print(first_name)\n"
   ]
  },
  {
   "cell_type": "code",
   "execution_count": null,
   "id": "eb72e62d-e655-4b33-8c35-b9696b1569ac",
   "metadata": {},
   "outputs": [],
   "source": [
    "Rule no : 2 = A variable name should not start with a number **"
   ]
  },
  {
   "cell_type": "code",
   "execution_count": 9,
   "id": "c1bb463f-1ac5-41b4-ae83-e3ef1cb14a50",
   "metadata": {},
   "outputs": [
    {
     "ename": "SyntaxError",
     "evalue": "invalid decimal literal (971968874.py, line 1)",
     "output_type": "error",
     "traceback": [
      "\u001b[1;36m  Cell \u001b[1;32mIn[9], line 1\u001b[1;36m\u001b[0m\n\u001b[1;33m    1name = \"mujeeb\"\u001b[0m\n\u001b[1;37m    ^\u001b[0m\n\u001b[1;31mSyntaxError\u001b[0m\u001b[1;31m:\u001b[0m invalid decimal literal\n"
     ]
    }
   ],
   "source": [
    "1name = \"mujeeb\"\n",
    "print(1name)"
   ]
  },
  {
   "cell_type": "code",
   "execution_count": 11,
   "id": "cea74938-ab84-42ab-b668-9c03267c1aff",
   "metadata": {},
   "outputs": [
    {
     "name": "stdout",
     "output_type": "stream",
     "text": [
      "mujeeb\n"
     ]
    }
   ],
   "source": [
    "name1 = \"mujeeb\"\n",
    "print(name1)"
   ]
  },
  {
   "cell_type": "code",
   "execution_count": null,
   "id": "34b1bdd4-8b9f-4146-b473-15ba9faaed93",
   "metadata": {},
   "outputs": [],
   "source": [
    "Rule no : 3 = A varaible name should not contain any special characters"
   ]
  },
  {
   "cell_type": "code",
   "execution_count": null,
   "id": "3ee20327-d712-4d39-8c0a-f3608eabc924",
   "metadata": {},
   "outputs": [],
   "source": [
    " @ # $ % ^ & *"
   ]
  },
  {
   "cell_type": "code",
   "execution_count": 13,
   "id": "4a8fd191-cc92-40ee-a3f4-00a8fbdd30dc",
   "metadata": {},
   "outputs": [
    {
     "ename": "SyntaxError",
     "evalue": "invalid syntax (2084999834.py, line 1)",
     "output_type": "error",
     "traceback": [
      "\u001b[1;36m  Cell \u001b[1;32mIn[13], line 1\u001b[1;36m\u001b[0m\n\u001b[1;33m    name@ = \"mujeeb\"\u001b[0m\n\u001b[1;37m          ^\u001b[0m\n\u001b[1;31mSyntaxError\u001b[0m\u001b[1;31m:\u001b[0m invalid syntax\n"
     ]
    }
   ],
   "source": [
    "name@ = \"mujeeb\"\n",
    "print(name@)"
   ]
  },
  {
   "cell_type": "code",
   "execution_count": null,
   "id": "5532fe06-4f89-4392-b43f-adcb6aa90028",
   "metadata": {},
   "outputs": [],
   "source": []
  }
 ],
 "metadata": {
  "kernelspec": {
   "display_name": "Python 3 (ipykernel)",
   "language": "python",
   "name": "python3"
  },
  "language_info": {
   "codemirror_mode": {
    "name": "ipython",
    "version": 3
   },
   "file_extension": ".py",
   "mimetype": "text/x-python",
   "name": "python",
   "nbconvert_exporter": "python",
   "pygments_lexer": "ipython3",
   "version": "3.12.4"
  }
 },
 "nbformat": 4,
 "nbformat_minor": 5
}
